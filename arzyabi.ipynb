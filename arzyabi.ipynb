{
  "nbformat": 4,
  "nbformat_minor": 0,
  "metadata": {
    "colab": {
      "name": "arzyabi.ipynb",
      "provenance": [],
      "collapsed_sections": [],
      "mount_file_id": "142eHSoIwvF-g6wZ4YYf839pFzoE9ISb3",
      "authorship_tag": "ABX9TyPkhfA0qqi9dgtSK03CDck7",
      "include_colab_link": true
    },
    "kernelspec": {
      "name": "python3",
      "display_name": "Python 3"
    },
    "language_info": {
      "name": "python"
    }
  },
  "cells": [
    {
      "cell_type": "markdown",
      "metadata": {
        "id": "view-in-github",
        "colab_type": "text"
      },
      "source": [
        "<a href=\"https://colab.research.google.com/github/HosseinEetedadi/CCNA_Fianl_Project/blob/master/arzyabi.ipynb\" target=\"_parent\"><img src=\"https://colab.research.google.com/assets/colab-badge.svg\" alt=\"Open In Colab\"/></a>"
      ]
    },
    {
      "cell_type": "code",
      "execution_count": 1,
      "metadata": {
        "id": "6-Ri1fNDhbCF"
      },
      "outputs": [],
      "source": [
        "import networkx as nx\n",
        "import matplotlib.pyplot as plt\n",
        "import numpy as np\n",
        "import random"
      ]
    },
    {
      "cell_type": "code",
      "source": [
        "class graph:\n",
        "  \n",
        "  def __init__(self,g):\n",
        "    self.g = g\n",
        "\n",
        "\n",
        "\n",
        "  def setCars(self):\n",
        "    cars = ['A', 'B', 'C', 'D', 'E', 'F', 'H', 'G']\n",
        "    present = {}\n",
        "    np.random.seed(1)\n",
        "    for name in cars:\n",
        "      (low, high) = np.random.choice(range(1,7), 2, replace = False)\n",
        "      present[name]=[low, high]\n",
        "            \n",
        "    return present\n",
        "  \n",
        "  def graph_Draw(self, edges, i, j):\n",
        "    weight_dic = {}\n",
        "    self.g.add_edges_from(edges)\n",
        "    pos = nx.spring_layout(self.g)\n",
        "\n",
        "    self.g[1][2]['weight'] = 10\n",
        "    weight_dic[(1, 2)] = 10\n",
        "    self.g[3][1]['weight'] = 30\n",
        "    weight_dic[(3, 1)] = 30\n",
        "    self.g[3][4]['weight'] = 2\n",
        "    weight_dic[(3, 4)] = 2\n",
        "    self.g[2][5]['weight'] = 30\n",
        "    weight_dic[(2, 5)] = 30\n",
        "    self.g[5][2]['weight'] = 30\n",
        "    weight_dic[(5, 2)] = 30\n",
        "    self.g[5][6]['weight'] = 5\n",
        "    weight_dic[(5, 6)] = 5\n",
        "    self.g[6][5]['weight'] = 5\n",
        "    weight_dic[(6, 5)] = 5\n",
        "    self.g[4][6]['weight'] = 40\n",
        "    weight_dic[(4, 6)] = 40\n",
        "    self.g[5][3]['weight'] = 45\n",
        "    weight_dic[(5, 3)] = 45\n",
        "    self.g[3][1]['weight'] = 30\n",
        "    weight_dic[(3, 1)] = 30\n",
        "    self.g[6][2]['weight'] = 20\n",
        "    weight_dic[(6, 2)] = 20\n",
        "    \n",
        "    nx.draw_networkx_edge_labels(self.g, pos, {\n",
        "        (1, 2) : 10,\n",
        "        (2, 5) : 30,\n",
        "        (5, 2) : 30,\n",
        "        (5, 6) : 5,\n",
        "        (6, 5) : 5,\n",
        "        (4, 6) : 40,\n",
        "        (3, 4) : 2,\n",
        "        (5, 3) : 45,\n",
        "        (3, 1) : 30,\n",
        "        (6, 2) : 20\n",
        "    }, label_pos = 0.50, )\n",
        "    #nx.draw_networkx_nodes(self.g, pos)\n",
        "    #nx.draw_networkx_edges(self.g, pos, edgelist = self.g.edges, edge_color = 'black')\n",
        "   # nx.draw_networkx_labels(self.g, pos)\n",
        "    nx.draw(self.g, pos, with_labels=True, connectionstyle='arc3, rad = 0.1')\n",
        "    \n",
        "    plt.show()\n",
        "    adj = nx.adjacency_matrix(self.g, weight = 'None')\n",
        "    return adj.todense(), nx.shortest_path(self.g, source = i, target = j, method = \"dijkstra\"), weight_dic\n",
        "\n",
        "  def calShortPath(self, routeMap):\n",
        "    for route in routeMap:\n",
        "      routeMap[route] = nx.shortest_path(self.g, source = routeMap[route][0], target = routeMap[route][1] )\n",
        "    \n",
        "    return routeMap\n",
        "\n",
        "  def showEdges(self):\n",
        "    return self.g.edges()\n",
        "\n",
        "  def showLabel(self):\n",
        "    graphTemp = self.g\n",
        "    pos = nx.spring_layout(graphTemp)\n",
        "\n",
        "    nx.draw_networkx_edge_labels(graphTemp, pos, {\n",
        "        (1, 2) : 1,\n",
        "        (2, 5) : 2,\n",
        "        (5, 2) : 6,\n",
        "        (5, 6) : 7,\n",
        "        (6, 5) : 9,\n",
        "        (4, 6) : 5,\n",
        "        (3, 4) : 3,\n",
        "        (5, 3) : 8,\n",
        "        (3, 1) : 4,\n",
        "        (6, 2) : 10\n",
        "    }, label_pos = 0.75, )\n",
        "    nx.draw(self.g, pos, with_labels=True, connectionstyle='arc3, rad = 0.1')\n",
        "    plt.show()\n",
        "  \n",
        "  def showRoute(self, route):\n",
        "    graph = self.g\n",
        "    pos = nx.spring_layout(graph)\n",
        "    nx.draw_networkx_edge_labels(graph, pos, {\n",
        "        (1, 2) : 10,\n",
        "        (2, 5) : 30,\n",
        "        (5, 2) : 30,\n",
        "        (5, 6) : 5,\n",
        "        (6, 5) : 5,\n",
        "        (4, 6) : 40,\n",
        "        (3, 4) : 2,\n",
        "        (5, 3) : 45,\n",
        "        (3, 1) : 30,\n",
        "        (6, 2) : 20\n",
        "    }, label_pos = 0.50, )\n",
        "    nx.draw(graph, pos, with_labels=True, connectionstyle='arc3, rad = 0.1')\n",
        "    nx.draw_networkx_nodes(graph, pos, nodelist=route, node_color=\"tab:red\")\n",
        "\n",
        "    plt.show()\n",
        "\n",
        "  def density(self, V, steady_state_value, weight_dic, start, end):\n",
        "    r = 1 \n",
        "    for key, value in weight_dic.items():\n",
        "      if key == (start, end):\n",
        "         r = value\n",
        "         break\n",
        "    route_lane_number = 1 \n",
        "    density = (V * steady_state_value) / (route_lane_number * r)\n",
        "\n",
        "\n",
        "    return density\n",
        "\n",
        "\n",
        "\n",
        "  def tpm_maker(self, edges, car_count_matrix):\n",
        "    car_count = {}\n",
        "    edgesj = edges\n",
        "    teransition = np.zeros((10, 10))\n",
        "\n",
        "    for i, route_number in zip(edges.values(), edges.keys()):\n",
        "      #car_count = 0 \n",
        "      count = 0\n",
        "      srci, disti = i[0], i[1]\n",
        "      for j, element in zip(edges.values(), edgesj.keys()):\n",
        "        srcj, distj = j[0], j[1]\n",
        "        if disti == srcj:\n",
        "          count += car_count_matrix[srci - 1][disti - 1] + car_count_matrix[srcj - 1][distj - 1]\n",
        "\n",
        "      for j, element in zip(edges.values(), edgesj.keys()):\n",
        "        srcj, distj = j[0], j[1]\n",
        "        if disti == srcj:\n",
        "          teransition[route_number - 1][element - 1] = (car_count_matrix[srci - 1][disti - 1] + car_count_matrix[srcj - 1][distj - 1]) / count\n",
        "        else:\n",
        "          teransition[route_number - 1][element - 1] = 0\n",
        "\n",
        "         # car_count[(route_number, element)] = (car_count_matrix[srci - 1][disti - 1] + car_count_matrix[srcj - 1][distj - 1])\n",
        "        #else:\n",
        "         # car_count[(route_number, element)] = 0\n",
        "      #for item in car_count.values():\n",
        "      \n",
        "    \n",
        "      \n",
        "    return teransition\n",
        "\n",
        "\n",
        "  def modify_tpm(self, weghited_dic, transition_matrix):\n",
        "    for key, value in weghited_dic.items():\n",
        "      weghited_dic[key] = value / 60\n",
        "    \n",
        "    return weghited_dic\n",
        "    \n",
        "\n",
        "\n",
        "    \n",
        "  def transition_matrix(self, routMap,nump_adjancy):\n",
        "    \n",
        "    rout_map_str = str(routMap)\n",
        "    #print(nump_adj)\n",
        "    teransition = np.zeros((6, 6))\n",
        "    #print(nump_adjancy)\n",
        "    #print(\"\")\n",
        "    #print('******************************************************')\n",
        "    #print(\"Route Map\")\n",
        "\n",
        "    row = 1\n",
        "    column = []\n",
        "    for rows in nump_adjancy:\n",
        "      if rows.sum() == 1:\n",
        "        teransition[row - 1] = rows\n",
        "      elif rows.sum() > 1:\n",
        "          a = np.where(rows == 1)\n",
        "          for index in a:\n",
        "            column.append(index)\n",
        "          index_pos = column.pop()\n",
        "          for element in teransition:\n",
        "            usage_count = 0\n",
        "            for index in  index_pos:\n",
        "              #print(f\"{row}, {index + 1}\")\n",
        "              usage_count += rout_map_str.count(f\"{row}, {index + 1}\")\n",
        "            for index in index_pos:\n",
        "              teransition[row - 1][index] = ((rout_map_str.count(f\"{row}, {index + 1}\")))\n",
        "              \n",
        "\n",
        "\n",
        "      row += 1\n",
        "\n",
        "    \n",
        "\n",
        "    return teransition\n",
        "\n",
        "\n",
        "  "
      ],
      "metadata": {
        "id": "PIg8LM4ZjokB"
      },
      "execution_count": 2,
      "outputs": []
    },
    {
      "cell_type": "code",
      "source": [
        "dic = {(1, 2):2, 3:4}\n",
        "for key, value in dic.items():\n",
        "  if key == (1, 2):\n",
        "    dic[key] = value / 2\n",
        "print(dic)"
      ],
      "metadata": {
        "colab": {
          "base_uri": "https://localhost:8080/"
        },
        "id": "G4EffDp2ziNc",
        "outputId": "49dc7c11-4bee-4cfa-9fca-58ca9fcb6d1a"
      },
      "execution_count": null,
      "outputs": [
        {
          "output_type": "stream",
          "name": "stdout",
          "text": [
            "{(1, 2): 1.0, 3: 4}\n"
          ]
        }
      ]
    },
    {
      "cell_type": "code",
      "source": [
        "gr = nx.DiGraph()\n",
        "g = graph(gr)\n",
        "print('Road network with length of road: ')\n",
        "(adj, shortPath, weghited_dic) = g.graph_Draw([(1, 2), (3, 4), (2, 5), (5, 2), (5, 6), (6, 5), (6, 2), (5, 3), (4, 6),  (3, 1)], 1, 6)\n",
        "\n",
        "routMap = g.setCars()\n",
        "print('Adjacency matrix : ')\n",
        "print(adj)\n",
        "nump_adj = np.array(adj.data)\n",
        "#print(nump_adj)\n",
        "print('Road network with label of road: ')\n",
        "g.showLabel()\n",
        "\n",
        "#print('***************************************************************')\n",
        "#print(shortPath)\n",
        "shorth_path = g.calShortPath(routMap)\n",
        "print('The shortest path of each car : ',shorth_path)\n",
        "#print('************************** TPM ********************************')\n",
        "\n",
        "#print(g.transition_matrix(routMap, nump_adj))\n",
        "p = g.transition_matrix(routMap, nump_adj)\n",
        "#print('***************************************************************')\n",
        "\n",
        "edges=[int(i) for i in str(g.showEdges()) if i.isdigit()]\n",
        "edges = np.array_split(edges, 10)\n",
        "j = 0\n",
        "index = 1\n",
        "dic = {}\n",
        "#print(edges)\n",
        "while j < (10):\n",
        "  \n",
        "  dic[index] = edges[j]\n",
        "  j = j + 1\n",
        "  index = index + 1\n",
        "#print(dic)\n",
        "print('Transition probability matrix is : ')\n",
        "print( g.tpm_maker(dic, p))\n",
        "tpm = g.tpm_maker(dic, p)\n",
        "#print(g.modify_tpm(weghited_dic, 1))\n",
        "\n",
        "\n",
        "#print(dic[1])\n",
        "#for item in shorth_path.values():\n",
        "#g.showRoute(item)"
      ],
      "metadata": {
        "colab": {
          "base_uri": "https://localhost:8080/",
          "height": 1000
        },
        "id": "i2JPUdFcmYgx",
        "outputId": "d85322b7-7175-4057-9fa9-8c588c7874ed"
      },
      "execution_count": 10,
      "outputs": [
        {
          "output_type": "stream",
          "name": "stdout",
          "text": [
            "Road network with length of road: \n"
          ]
        },
        {
          "output_type": "display_data",
          "data": {
            "text/plain": [
              "<Figure size 432x288 with 1 Axes>"
            ],
            "image/png": "[encoded data removed]"
          },
          "metadata": {}
        },
        {
          "output_type": "stream",
          "name": "stdout",
          "text": [
            "Adjacency matrix : \n",
            "[[0 1 0 0 0 0]\n",
            " [0 0 0 0 1 0]\n",
            " [1 0 0 1 0 0]\n",
            " [0 0 0 0 0 1]\n",
            " [0 1 1 0 0 1]\n",
            " [0 1 0 0 1 0]]\n",
            "Road network with label of road: \n"
          ]
        },
        {
          "output_type": "display_data",
          "data": {
            "text/plain": [
              "<Figure size 432x288 with 1 Axes>"
            ],
            "image/png": "[encoded data removed]"
          },
          "metadata": {}
        },
        {
          "output_type": "stream",
          "name": "stdout",
          "text": [
            "The shortest path of each car :  {'A': [3, 1, 2], 'B': [5, 3], 'C': [3, 1], 'D': [4, 6], 'E': [2, 5, 6], 'F': [4, 6], 'H': [3, 4, 6], 'G': [3, 4, 6, 5]}\n",
            "Transition probability matrix is : \n",
            "[[0.         1.         0.         0.         0.         0.\n",
            "  0.         0.         0.         0.        ]\n",
            " [0.         0.         0.         0.         0.         0.2\n",
            "  0.4        0.4        0.         0.        ]\n",
            " [0.         0.         0.         0.         1.         0.\n",
            "  0.         0.         0.         0.        ]\n",
            " [1.         0.         0.         0.         0.         0.\n",
            "  0.         0.         0.         0.        ]\n",
            " [0.         0.         0.         0.         0.         0.\n",
            "  0.         0.         0.66666667 0.33333333]\n",
            " [0.         1.         0.         0.         0.         0.\n",
            "  0.         0.         0.         0.        ]\n",
            " [0.         0.         0.         0.         0.         0.\n",
            "  0.         0.         0.66666667 0.33333333]\n",
            " [0.         0.         0.5        0.5        0.         0.\n",
            "  0.         0.         0.         0.        ]\n",
            " [0.         0.         0.         0.         0.         0.2\n",
            "  0.4        0.4        0.         0.        ]\n",
            " [0.         1.         0.         0.         0.         0.\n",
            "  0.         0.         0.         0.        ]]\n"
          ]
        }
      ]
    },
    {
      "cell_type": "code",
      "source": [
        "import scipy.linalg as sp\n",
        "import math as mt\n",
        "#calulate steaty state vector\n",
        "def near(a, b, rtol = 1e-5, atol = 1e-8):\n",
        "  return np.abs(a - b) < (atol + rtol * np.abs(b))\n",
        "\n",
        "def steady_state(p):\n",
        "  values, vectors = sp.eig(p, left = True, right = False)\n",
        "  vectors = vectors.T\n",
        "  vector = vectors[near(values, 1)]\n",
        "  return vector/np.sum(vector)\n",
        "\n",
        "\n",
        "cal = []\n",
        "st = steady_state(tpm)\n",
        "#print(steady_state(tpm))\n",
        "#print(tpm)\n",
        "'''print(mt.sqrt(st[0][0].real ** 2 + st[0][0].imag ** 2))  \n",
        "print(mt.sqrt(st[0][1].real ** 2 + st[0][1].imag ** 2)) \n",
        "print(mt.sqrt(st[0][2].real ** 2 + st[0][2].imag ** 2))\n",
        "print(mt.sqrt(st[0][3].real ** 2 + st[0][3].imag ** 2))\n",
        "print(mt.sqrt(st[0][4].real ** 2 + st[0][4].imag ** 2))\n",
        "print(mt.sqrt(st[0][5].real ** 2 + st[0][5].imag ** 2)) \n",
        "print(mt.sqrt(st[0][6].real ** 2 + st[0][6].imag ** 2))\n",
        "print(mt.sqrt(st[0][7].real ** 2 + st[0][7].imag ** 2))\n",
        "print(mt.sqrt(st[0][8].real ** 2 + st[0][8].imag ** 2))\n",
        "print(mt.sqrt(st[0][9].real ** 2 + st[0][9].imag ** 2))'''\n",
        "dens = {}\n",
        "count = 0\n",
        "for key, value in weghited_dic.items():\n",
        "  dens[count + 1] = g.density(8, std[0][count].real ** 2 + std[0][count].imag ** 2 , weghited_dic, key[0], key[1])\n",
        "  count += 1\n",
        "print('The desification of each road is : ', dens)\n"
      ],
      "metadata": {
        "id": "yACxn4nrL6d8",
        "colab": {
          "base_uri": "https://localhost:8080/"
        },
        "outputId": "33f60a39-5549-4bb4-bdfe-8079aa50d620"
      },
      "execution_count": 14,
      "outputs": [
        {
          "output_type": "stream",
          "name": "stdout",
          "text": [
            "The desification of each road is :  {1: 0.0035555555555555713, 2: 0.010666666666666665, 3: 0.017777777777777785, 4: 0.0011851851851851856, 5: 0.0011851851851851821, 6: 0.0071111111111111115, 7: 0.028444444444444394, 8: 0.0035555555555555557, 9: 0.0031604938271604893, 10: 0.0017777777777777798}\n"
          ]
        }
      ]
    },
    {
      "cell_type": "code",
      "source": [
        "'''\n",
        "rout_map_str = str(routMap)\n",
        "#print(nump_adj)\n",
        "teransition = np.zeros((6, 6))\n",
        "print(nump_adj)\n",
        "print(\"\")\n",
        "print('******************************************************')\n",
        "print(\"Route Map\")\n",
        "\n",
        "row = 1\n",
        "column = []\n",
        "for rows in nump_adj:\n",
        "  if rows.sum() == 1:\n",
        "   \n",
        "    teransition[row - 1] = rows\n",
        "    \n",
        "\n",
        "  elif rows.sum() > 1:\n",
        "      a = np.where(rows == 1)\n",
        "      for index in a:\n",
        "        column.append(index)\n",
        "      index_pos = column.pop()\n",
        "      for element in teransition:\n",
        "        usage_count = 0\n",
        "        for index in  index_pos:\n",
        "          #print(f\"{row}, {index + 1}\")\n",
        "          usage_count += rout_map_str.count(f\"{row}, {index + 1}\")\n",
        "        for index in index_pos:\n",
        "          teransition[row - 1][index] = ((rout_map_str.count(f\"{row}, {index + 1}\")) / usage_count)\n",
        "          \n",
        "\n",
        "\n",
        "  row += 1\n",
        "\n",
        "print(routMap)\n",
        "print(\"\")\n",
        "print('******************************************************')\n",
        "print(\"TPM:\")\n",
        "\n",
        "print(teransition)'''\n"
      ],
      "metadata": {
        "id": "ii8YTLWdPqcB",
        "colab": {
          "base_uri": "https://localhost:8080/",
          "height": 144
        },
        "outputId": "43737e9b-51af-4650-9b06-4c1423ae1508"
      },
      "execution_count": 15,
      "outputs": [
        {
          "output_type": "execute_result",
          "data": {
            "text/plain": [
              "'\\nrout_map_str = str(routMap)\\n#print(nump_adj)\\nteransition = np.zeros((6, 6))\\nprint(nump_adj)\\nprint(\"\")\\nprint(\\'******************************************************\\')\\nprint(\"Route Map\")\\n\\nrow = 1\\ncolumn = []\\nfor rows in nump_adj:\\n  if rows.sum() == 1:\\n   \\n    teransition[row - 1] = rows\\n    \\n\\n  elif rows.sum() > 1:\\n      a = np.where(rows == 1)\\n      for index in a:\\n        column.append(index)\\n      index_pos = column.pop()\\n      for element in teransition:\\n        usage_count = 0\\n        for index in  index_pos:\\n          #print(f\"{row}, {index + 1}\")\\n          usage_count += rout_map_str.count(f\"{row}, {index + 1}\")\\n        for index in index_pos:\\n          teransition[row - 1][index] = ((rout_map_str.count(f\"{row}, {index + 1}\")) / usage_count)\\n          \\n\\n\\n  row += 1\\n\\nprint(routMap)\\nprint(\"\")\\nprint(\\'******************************************************\\')\\nprint(\"TPM:\")\\n\\nprint(teransition)'"
            ],
            "application/vnd.google.colaboratory.intrinsic+json": {
              "type": "string"
            }
          },
          "metadata": {},
          "execution_count": 15
        }
      ]
    },
    {
      "cell_type": "code",
      "source": [
        ""
      ],
      "metadata": {
        "id": "ncti5coXZFU-"
      },
      "execution_count": null,
      "outputs": []
    }
  ]
}